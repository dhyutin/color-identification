{
 "cells": [
  {
   "cell_type": "markdown",
   "id": "b058141c",
   "metadata": {},
   "source": [
    "## **N Sree Dhyuti - Submission**"
   ]
  },
  {
   "cell_type": "markdown",
   "id": "f7ce4e79",
   "metadata": {},
   "source": [
    "# Step 1: Load Data"
   ]
  },
  {
   "cell_type": "code",
   "execution_count": 1,
   "id": "8ce51b86",
   "metadata": {},
   "outputs": [],
   "source": [
    "# Loading Data\n",
    "import cv2\n",
    "import matplotlib.pyplot as plt\n",
    "import numpy as np\n",
    "import os\n",
    "\n",
    "data_folder = r\"C:\\Users\\dhyut\\SEM8\\SequrAise Intern Assignment\\data\"\n",
    "\n",
    "def load_images_from_folder():\n",
    "    cap = cv2.VideoCapture(r\"C:\\Users\\dhyut\\SEM8\\SequrAise Intern Assignment\\AI Assignment video.mp4\")\n",
    "    i = 0\n",
    "    frames = [] \n",
    "    #3182\n",
    "    while(cap.isOpened() and i < 3182):\n",
    "        ret, frame = cap.read()\n",
    "        if ret == False:\n",
    "            break\n",
    "        frames.append(frame)\n",
    "        i += 1\n",
    "    cap.release()\n",
    "    cv2.destroyAllWindows()    \n",
    "    return frames\n",
    "\n",
    "images_data = load_images_from_folder()"
   ]
  },
  {
   "cell_type": "markdown",
   "id": "b1d95b48",
   "metadata": {},
   "source": [
    "**Function to get segment each quadrant**"
   ]
  },
  {
   "cell_type": "code",
   "execution_count": 2,
   "id": "f0801b8f",
   "metadata": {},
   "outputs": [],
   "source": [
    "def get_quadrants(img):\n",
    "#     ROI = img_sample[0:1020, 770:1750]\n",
    "    q1 = img[570:970, 1260:1725]\n",
    "    q2 = img[540:1000, 790:1210]\n",
    "    q3 = img[20:500, 795:1220]\n",
    "    q4 = img[20:500, 1260:1735]\n",
    "    return [q1, q2, q3, q4]\n"
   ]
  },
  {
   "cell_type": "markdown",
   "id": "c874056b",
   "metadata": {},
   "source": [
    "**Setting up hsv upper and lower limits of each of the following colors**"
   ]
  },
  {
   "cell_type": "code",
   "execution_count": 3,
   "id": "04777f39",
   "metadata": {},
   "outputs": [],
   "source": [
    "# hsv lower and upper limits of colors involved in dataset\n",
    "\n",
    "# Manually encoded hsv limits\n",
    "red = [np.array([0, 100, 40]), np.array([60, 255, 255])]\n",
    "\n",
    "blue = [np.array([94, 80, 2]), np.array([126, 255, 255])]\n",
    "\n",
    "green = [np.array([25, 52, 72]), np.array([102, 255, 255])]\n",
    "\n",
    "black = [np.array([0, 0, 0]), np.array([360, 255, 67])]"
   ]
  },
  {
   "cell_type": "markdown",
   "id": "4387c06c",
   "metadata": {},
   "source": [
    "**Function to find ball color in the given quadrant**"
   ]
  },
  {
   "cell_type": "code",
   "execution_count": 4,
   "id": "e1a91475",
   "metadata": {},
   "outputs": [],
   "source": [
    "def ball_color(img):\n",
    "    possible_colors = [red, blue, green, black]\n",
    "    counts = []\n",
    "    color = \"\"\n",
    "    for i in range(len(possible_colors)):\n",
    "        image1 = cv2.cvtColor(img, cv2.COLOR_BGR2HSV)\n",
    "        mask = cv2.inRange(image1, possible_colors[i][0], possible_colors[i][1])\n",
    "        counts.append(np.count_nonzero((mask == 255)))\n",
    "    # Thresholding \n",
    "    if(counts[2] > 8000):\n",
    "        color = \"Green\"\n",
    "    elif(counts[0] > 7500):\n",
    "        color = \"Orange\"\n",
    "    elif((counts[2] > 4000) and (counts[1] > 750)):\n",
    "        color = \"Yellow\"\n",
    "    elif((counts[1] > 900) and (counts[2] < 100) and counts[3] < 50):\n",
    "        color = \"None\"\n",
    "    else:\n",
    "        color = \"White\"\n",
    "    return color"
   ]
  },
  {
   "cell_type": "markdown",
   "id": "231e1420",
   "metadata": {},
   "source": [
    "**Running algorithm on all frames in video (Time Taking)**"
   ]
  },
  {
   "cell_type": "code",
   "execution_count": 5,
   "id": "9c2141e6",
   "metadata": {
    "scrolled": false
   },
   "outputs": [],
   "source": [
    "final_imgs = []\n",
    "text_content = []\n",
    "cnt = 0\n",
    "for i in images_data:\n",
    "    cnt += 1\n",
    "    string = \"\"\n",
    "    image = i\n",
    "    imag = get_quadrants(image)\n",
    "    q1 = ball_color(imag[0])\n",
    "    q2 = ball_color(imag[1])\n",
    "    q3 = ball_color(imag[2])\n",
    "    q4 = ball_color(imag[3])\n",
    "    if(cnt == 1):\n",
    "        prev_q1 = q1\n",
    "        prev_q2 = q2\n",
    "        prev_q3 = q3\n",
    "        prev_q4 = q4\n",
    "        \n",
    "    def entry(prev_q, q):\n",
    "        if(prev_q == q):\n",
    "            return \"entry\"\n",
    "        else:\n",
    "            return \"exit\"\n",
    "        val = \"entry\"\n",
    "    string_for_txt_file = str(cnt) + \", \" + \"1, \" + q1 + \", \" + entry(prev_q1, q1)\n",
    "    text_content.append(string_for_txt_file)\n",
    "    string_for_txt_file = str(cnt) + \", \" + \"2, \" + q2 + \", \" + entry(prev_q2, q2)\n",
    "    text_content.append(string_for_txt_file)\n",
    "    string_for_txt_file = str(cnt) + \", \" + \"3, \" + q3 + \", \" + entry(prev_q3, q3)\n",
    "    text_content.append(string_for_txt_file)\n",
    "    string_for_txt_file = str(cnt) + \", \" + \"4, \" + q4 + \", \" + entry(prev_q4, q4)\n",
    "    text_content.append(string_for_txt_file)\n",
    "    \n",
    "    font = cv2.FONT_HERSHEY_SIMPLEX\n",
    "    org = (50, 50)\n",
    "    fontScale = 1\n",
    "    color = (255, 0, 0)\n",
    "    thickness = 2\n",
    "    string = \"Quadrant 1: \" + q1 \n",
    "    image = cv2.putText(image, string , org, font, fontScale, color, thickness, cv2.LINE_AA)\n",
    "    string = \"Quadrant 2: \" + q2 \n",
    "    org = (50, 80)\n",
    "    image = cv2.putText(image, string , org, font, fontScale, color, thickness, cv2.LINE_AA)\n",
    "    string = \"Quadrant 3: \" + q3 \n",
    "    org = (50, 110)\n",
    "    image = cv2.putText(image, string , org, font, fontScale, color, thickness, cv2.LINE_AA)\n",
    "    string = \"Quadrant 4: \" + q4 \n",
    "    org = (50, 140)\n",
    "    image = cv2.putText(image, string , org, font, fontScale, color, thickness, cv2.LINE_AA)\n",
    "    prev_q1 = q1\n",
    "    prev_q2 = q2\n",
    "    prev_q3 = q3\n",
    "    prev_q4 = q4\n",
    "    \n",
    "#     text_content.append(string_for_txt_file)\n",
    "    final_imgs.append(image)"
   ]
  },
  {
   "cell_type": "markdown",
   "id": "84380edf",
   "metadata": {},
   "source": [
    "**Compiling all the frames to a video**"
   ]
  },
  {
   "cell_type": "code",
   "execution_count": 6,
   "id": "27630ad2",
   "metadata": {},
   "outputs": [],
   "source": [
    "import cv2\n",
    "import os\n",
    "\n",
    "# image_folder = 'images'\n",
    "video_name = 'video1.avi'\n",
    "\n",
    "# frame = cv2.imread(os.path.join(image_folder, final_imgs[0]))\n",
    "height, width, layers = final_imgs[0].shape\n",
    "\n",
    "video = cv2.VideoWriter(video_name, 0, 30.30, (width,height))\n",
    "\n",
    "for image in final_imgs:\n",
    "    video.write(image)\n",
    "\n",
    "cv2.destroyAllWindows()\n",
    "video.release()"
   ]
  },
  {
   "cell_type": "markdown",
   "id": "d0116810",
   "metadata": {},
   "source": [
    "**Creating a text file for the same**"
   ]
  },
  {
   "cell_type": "code",
   "execution_count": 8,
   "id": "c44f6f43",
   "metadata": {},
   "outputs": [],
   "source": [
    "string = \"frame, quadrant, color, entry/exit \\n\"\n",
    "\n",
    "for i in text_content:\n",
    "    string += i + \"\\n\"\n",
    "\n",
    "file_object = open('results.txt', 'a')\n",
    "file_object.write(string)\n",
    "file_object.close()"
   ]
  },
  {
   "cell_type": "code",
   "execution_count": null,
   "id": "10fe58fc",
   "metadata": {},
   "outputs": [],
   "source": []
  }
 ],
 "metadata": {
  "kernelspec": {
   "display_name": "Python 3 (ipykernel)",
   "language": "python",
   "name": "python3"
  },
  "language_info": {
   "codemirror_mode": {
    "name": "ipython",
    "version": 3
   },
   "file_extension": ".py",
   "mimetype": "text/x-python",
   "name": "python",
   "nbconvert_exporter": "python",
   "pygments_lexer": "ipython3",
   "version": "3.8.5"
  }
 },
 "nbformat": 4,
 "nbformat_minor": 5
}
